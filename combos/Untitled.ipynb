{
 "cells": [
  {
   "cell_type": "code",
   "execution_count": 71,
   "id": "01697ca9",
   "metadata": {},
   "outputs": [
    {
     "name": "stdout",
     "output_type": "stream",
     "text": [
      "Total no. of rows: 7\n",
      "Field names are:ï»¿Sequence, Days, Movie, Links, Label\n",
      "\n",
      "First 6 rows are:\n",
      "\n",
      "         1\n",
      "        45\n",
      "      Help\n",
      "https://auth.udacity.com/sign-in?next=https%3A%2F%2Fclassroom.udacity.com%2Fauthenticated\n",
      "ttps%3A%2F%2Fclassroo-888-m.udacity.com%2Fauthenticated\n",
      "\n",
      "\n",
      "         2\n",
      "        60\n",
      "     Wheel\n",
      "https://github.com/Pierian-Data/Complete-Python-3-Bootcamp\n",
      "ttps%3A%2F%2Fclassroo-777-m.udacity.com%2Fauthenticated\n",
      "\n",
      "\n",
      "         3\n",
      "        56\n",
      "     Touch\n",
      "https://www.freecodecamp.org/news/\n",
      "ttps%3A%2F%2Fclassroo-666-m.udacity.com%2Fauthenticated\n",
      "\n",
      "\n",
      "         4\n",
      "        29\n",
      "     Board\n",
      "https://www.ed2go.com/augustatech/classroom.html?ReturnUrl=%2faugustatech%2fClassroom%2fClassroomStudentLandingPage.aspx\n",
      "ttps%3A%2F%2Fclassroo-999-m.udacity.com%2Fauthenticated\n",
      "\n",
      "\n",
      "         5\n",
      "        41\n",
      "      Like\n",
      "https://www.google.com/search?q=google&oq=goo&aqs=chrome.0.0i131i433j0i433j69i57j69i60j69i65l2j69i60l2.7815j0j4&sourceid=chrome&ie=UTF-8\n",
      "ttps%3A%2F%2Fclassroo-444-m.udacity.com%2Fauthenticated\n",
      "\n",
      "\n",
      "         6\n",
      "        23\n",
      "      Easy\n",
      "https://www.ed2go.com/augustatech/classroom.html?ReturnUrl=%2faugustatech%2fClassroom%2fClassroomStudentLandingPage.aspx\n",
      "ttps%3A%2F%2Fclassroo-333-m.udacity.com%2Fauthenticated\n",
      "\n",
      "\n"
     ]
    }
   ],
   "source": [
    "\n",
    "# importing csv module\n",
    "import csv\n",
    "import re\n",
    "  \n",
    "# csv file name\n",
    "filename = \"combos_20.csv\"\n",
    "  \n",
    "# initializing the titles and rows list\n",
    "fields = []\n",
    "rows = []\n",
    "  \n",
    "    # reading csv file\n",
    "with open(filename, 'r') as csvfile:\n",
    "    # creating a csv reader object\n",
    "    csvreader = csv.reader(csvfile)\n",
    "          # extracting field names through first row\n",
    "    fields = next(csvreader)\n",
    "  \n",
    "\n",
    "    # extracting each data row one by one\n",
    "    for row in csvreader:\n",
    "        rows.append(row)\n",
    "  \n",
    "    # get total number of rows\n",
    "    print(\"Total no. of rows: %d\"%(csvreader.line_num))\n",
    "  \n",
    " # printing the field names\n",
    "print('Field names are:' + ', '.join(field for field in fields))\n",
    "  \n",
    "#  printing first 6 rows\n",
    "print('\\nFirst 6 rows are:\\n')\n",
    "for row in rows[:6]:\n",
    "    # parsing each column of a row\n",
    "    for col in row:\n",
    "        print(\"%10s\"%col),\n",
    "    print('\\n')\n",
    "\n",
    "all_labels=[]\n",
    "\n",
    "for row in rows[0:]:\n",
    "    all_labels.append(row)"
   ]
  },
  {
   "cell_type": "code",
   "execution_count": 186,
   "id": "495401ed",
   "metadata": {
    "scrolled": true
   },
   "outputs": [
    {
     "name": "stdout",
     "output_type": "stream",
     "text": [
      "Label\n",
      "ttps%3A%2F%2Fclassroo-888-m.udacity.com%2Fauthenticated\n",
      "ttps%3A%2F%2Fclassroo-777-m.udacity.com%2Fauthenticated\n",
      "ttps%3A%2F%2Fclassroo-666-m.udacity.com%2Fauthenticated\n",
      "ttps%3A%2F%2Fclassroo-999-m.udacity.com%2Fauthenticated\n",
      "ttps%3A%2F%2Fclassroo-444-m.udacity.com%2Fauthenticated\n",
      "ttps%3A%2F%2Fclassroo-333-m.udacity.com%2Fauthenticated\n"
     ]
    }
   ],
   "source": [
    "import csv\n",
    "#def all_label():\n",
    "with open(\"combos_20.csv\", \"r\") as csv_file:\n",
    "        csv_reader=csv.reader(csv_file, delimiter=\",\")\n",
    "        for lines in csv_reader:\n",
    "            print (lines[4])\n",
    "        "
   ]
  },
  {
   "cell_type": "code",
   "execution_count": null,
   "id": "49463f22",
   "metadata": {},
   "outputs": [],
   "source": []
  },
  {
   "cell_type": "code",
   "execution_count": null,
   "id": "b52f7643",
   "metadata": {},
   "outputs": [],
   "source": []
  },
  {
   "cell_type": "code",
   "execution_count": 181,
   "id": "90003b53",
   "metadata": {},
   "outputs": [
    {
     "name": "stdout",
     "output_type": "stream",
     "text": [
      "['888-', '777-', '666-', '999-', '444-', '333-']\n",
      "Yes, there is at least one match!\n"
     ]
    }
   ],
   "source": [
    "import re\n",
    "\n",
    "text=\"ttps%3A%2F%2Fclassroo-888-m.udacity.com%2Fauthenticated, ttps%3A%2F%2Fclassroo-777-m.udacity.com%2Fauthenticated, ttps%3A%2F%2Fclassroo-666-m.udacity.com%2Fauthenticated, ttps%3A%2F%2Fclassroo-999-m.udacity.com%2Fauthenticated, ttps%3A%2F%2Fclassroo-444-m.udacity.com%2Fauthenticated, ttps%3A%2F%2Fclassroo-333-m.udacity.com%2Fauthenticated\"\n",
    "\n",
    "#Check if \"Portugal\" is in the string:\n",
    "\n",
    "x = re.findall(\"\\d\\d\\d-\", text)\n",
    "print(x)\n",
    "\n",
    "if (x):\n",
    "  print(\"Yes, there is at least one match!\")\n",
    "else:\n",
    "  print(\"No match\")\n",
    "\n"
   ]
  },
  {
   "cell_type": "code",
   "execution_count": null,
   "id": "07d25641",
   "metadata": {},
   "outputs": [],
   "source": []
  },
  {
   "cell_type": "code",
   "execution_count": 98,
   "id": "23bd0ade",
   "metadata": {},
   "outputs": [
    {
     "name": "stdout",
     "output_type": "stream",
     "text": [
      "[['1', '45', 'Help', 'https://auth.udacity.com/sign-in?next=https%3A%2F%2Fclassroom.udacity.com%2Fauthenticated', 'ttps%3A%2F%2Fclassroo-888-m.udacity.com%2Fauthenticated'], ['2', '60', 'Wheel', 'https://github.com/Pierian-Data/Complete-Python-3-Bootcamp', 'ttps%3A%2F%2Fclassroo-777-m.udacity.com%2Fauthenticated'], ['3', '56', 'Touch', 'https://www.freecodecamp.org/news/', 'ttps%3A%2F%2Fclassroo-666-m.udacity.com%2Fauthenticated'], ['4', '29', 'Board', 'https://www.ed2go.com/augustatech/classroom.html?ReturnUrl=%2faugustatech%2fClassroom%2fClassroomStudentLandingPage.aspx', 'ttps%3A%2F%2Fclassroo-999-m.udacity.com%2Fauthenticated'], ['5', '41', 'Like', 'https://www.google.com/search?q=google&oq=goo&aqs=chrome.0.0i131i433j0i433j69i57j69i60j69i65l2j69i60l2.7815j0j4&sourceid=chrome&ie=UTF-8', 'ttps%3A%2F%2Fclassroo-444-m.udacity.com%2Fauthenticated'], ['6', '23', 'Easy', 'https://www.ed2go.com/augustatech/classroom.html?ReturnUrl=%2faugustatech%2fClassroom%2fClassroomStudentLandingPage.aspx', 'ttps%3A%2F%2Fclassroo-333-m.udacity.com%2Fauthenticated']]\n"
     ]
    }
   ],
   "source": [
    "\n",
    "print(all_labels)\n"
   ]
  },
  {
   "cell_type": "code",
   "execution_count": null,
   "id": "2eda69a7",
   "metadata": {},
   "outputs": [],
   "source": []
  },
  {
   "cell_type": "code",
   "execution_count": 109,
   "id": "5c52a083",
   "metadata": {},
   "outputs": [
    {
     "name": "stdout",
     "output_type": "stream",
     "text": [
      "['888-', '777-', '666-', '999-', '444-', '333-']\n",
      "Yes, there is at least one match!\n"
     ]
    }
   ],
   "source": [
    "import re\n",
    "\n",
    "txt = \"[['1', '45', 'Help', 'https://auth.udacity.com/sign-in?next=https%3A%2F%2Fclassroom.udacity.com%2Fauthenticated', 'ttps%3A%2F%2Fclassroo-888-m.udacity.com%2Fauthenticated'], ['2', '60', 'Wheel', 'https://github.com/Pierian-Data/Complete-Python-3-Bootcamp', 'ttps%3A%2F%2Fclassroo-777-m.udacity.com%2Fauthenticated'], ['3', '56', 'Touch', 'https://www.freecodecamp.org/news/', 'ttps%3A%2F%2Fclassroo-666-m.udacity.com%2Fauthenticated'], ['4', '29', 'Board', 'https://www.ed2go.com/augustatech/classroom.html?ReturnUrl=%2faugustatech%2fClassroom%2fClassroomStudentLandingPage.aspx', 'ttps%3A%2F%2Fclassroo-999-m.udacity.com%2Fauthenticated'], ['5', '41', 'Like', 'https://www.google.com/search?q=google&oq=goo&aqs=chrome.0.0i131i433j0i433j69i57j69i60j69i65l2j69i60l2.7815j0j4&sourceid=chrome&ie=UTF-8', 'ttps%3A%2F%2Fclassroo-444-m.udacity.com%2Fauthenticated'], ['6', '23', 'Easy', 'https://www.ed2go.com/augustatech/classroom.html?ReturnUrl=%2faugustatech%2fClassroom%2fClassroomStudentLandingPage.aspx', 'ttps%3A%2F%2Fclassroo-333-m.udacity.com%2Fauthenticated']]\"\n",
    "\n",
    "#Check if \"Portugal\" is in the string:\n",
    "\n",
    "x = re.findall(\"\\d\\d\\d-\", txt)\n",
    "print(x)\n",
    "\n",
    "if (x):\n",
    "  print(\"Yes, there is at least one match!\")\n",
    "else:\n",
    "  print(\"No match\")"
   ]
  },
  {
   "cell_type": "code",
   "execution_count": 128,
   "id": "5f9952ca",
   "metadata": {},
   "outputs": [
    {
     "name": "stdout",
     "output_type": "stream",
     "text": [
      "['ï»¿111-01', 'Yes', 'Squad 3']\n",
      "[['111-02', 'No', 'Squad 3'], ['222-01', 'Yes', 'Squad 5'], ['222-01', 'No', 'Squad 5'], ['222-01', 'Yes', 'Squad 5'], ['222-01', 'Yes', 'Squad 5'], ['333-01', 'No', 'Squad 6'], ['333-02', 'No', 'Squad 6'], ['333-03', 'No', 'Squad 6'], ['333-04', 'Yes', 'Squad 6'], ['444-01', 'Yes', 'Squad 1'], ['444-01', 'No', 'Squad 1'], ['555-01', 'No', 'Squad 20'], ['555-01', 'Yes', 'Squad 20'], ['555-01', 'No', 'Squad 20'], ['555-01', 'Yes', 'Squad 20'], ['666-01', 'Yes', 'Squad 215k'], ['666-01', 'No', 'Squad 215k'], ['777-01', 'Yes', 'Squad 2'], ['777-01', 'No', 'Squad 2'], ['777-02', 'No', 'Squad 2'], ['777-02', 'Yes', 'Squad 2'], ['888-01', 'Yes', 'Squad 6'], ['888-02', 'Yes', 'Squad 6'], ['888-03', 'No', 'Squad 6'], ['888-04', 'No', 'Squad 6'], ['888-05', 'Yes', 'Squad 6'], ['888-06', 'Yes', 'Squad 6'], ['999-01', 'Yes', 'Squad 7'], ['999-02', 'No', 'Squad 7'], ['999-03', 'No', 'Squad 7'], ['999-03', 'Yes', 'Squad 7'], ['999-03', 'Yes', 'Squad 7'], ['999-03', 'Yes', 'Squad 7']]\n"
     ]
    }
   ],
   "source": [
    "import re\n",
    "import csv\n",
    "\n",
    "file = open(r\"C:\\Users\\yoadd\\OneDrive\\Desktop\\PROJECT_1\\combo_requirments\\requirements.csv\")\n",
    "csvreader = csv.reader(file)\n",
    "header = next(csvreader)\n",
    "print(header)\n",
    "rows = []\n",
    "for row in csvreader:\n",
    "    rows.append(row)\n",
    "print(rows)\n",
    "file.close()\n",
    "\n"
   ]
  },
  {
   "cell_type": "code",
   "execution_count": 193,
   "id": "1c3c5dcb",
   "metadata": {},
   "outputs": [
    {
     "name": "stdout",
     "output_type": "stream",
     "text": [
      "[['111-02', 'No', 'Squad 3'], ['222-01', 'Yes', 'Squad 5'], ['222-01', 'No', 'Squad 5'], ['222-01', 'Yes', 'Squad 5'], ['222-01', 'Yes', 'Squad 5'], ['333-01', 'No', 'Squad 6'], ['333-02', 'No', 'Squad 6'], ['333-03', 'No', 'Squad 6'], ['333-04', 'Yes', 'Squad 6'], ['444-01', 'Yes', 'Squad 1'], ['444-01', 'No', 'Squad 1'], ['555-01', 'No', 'Squad 20'], ['555-01', 'Yes', 'Squad 20'], ['555-01', 'No', 'Squad 20'], ['555-01', 'Yes', 'Squad 20'], ['666-01', 'Yes', 'Squad 215k'], ['666-01', 'No', 'Squad 215k'], ['777-01', 'Yes', 'Squad 2'], ['777-01', 'No', 'Squad 2'], ['777-02', 'No', 'Squad 2'], ['777-02', 'Yes', 'Squad 2'], ['888-01', 'Yes', 'Squad 6'], ['888-02', 'Yes', 'Squad 6'], ['888-03', 'No', 'Squad 6'], ['888-04', 'No', 'Squad 6'], ['888-05', 'Yes', 'Squad 6'], ['888-06', 'Yes', 'Squad 6'], ['999-01', 'Yes', 'Squad 7'], ['999-02', 'No', 'Squad 7'], ['999-03', 'No', 'Squad 7'], ['999-03', 'Yes', 'Squad 7'], ['999-03', 'Yes', 'Squad 7'], ['999-03', 'Yes', 'Squad 7']]\n"
     ]
    }
   ],
   "source": [
    "print(list(rows))\n"
   ]
  },
  {
   "cell_type": "code",
   "execution_count": 197,
   "id": "d3d717c3",
   "metadata": {},
   "outputs": [
    {
     "name": "stdout",
     "output_type": "stream",
     "text": [
      "['111-02', '222-01', '222-01', '222-01', '222-01', '333-01', '333-02', '333-03', '333-04', '444-01', '444-01', '555-01', '555-01', '555-01', '555-01', '666-01', '666-01', '777-01', '777-01', '777-02', '777-02', '888-01', '888-02', '888-03', '888-04', '888-05', '888-06', '999-01', '999-02', '999-03', '999-03', '999-03', '999-03']\n",
      "Yes, there is at least one match!\n"
     ]
    }
   ],
   "source": [
    "text= \"'111-02', 'No', 'Squad 3'], ['222-01', 'Yes', 'Squad 5'], ['222-01', 'No', 'Squad 5'], ['222-01', 'Yes', 'Squad 5'], ['222-01', 'Yes', 'Squad 5'], ['333-01', 'No', 'Squad 6'], ['333-02', 'No', 'Squad 6'], ['333-03', 'No', 'Squad 6'], ['333-04', 'Yes', 'Squad 6'], ['444-01', 'Yes', 'Squad 1'], ['444-01', 'No', 'Squad 1'], ['555-01', 'No', 'Squad 20'], ['555-01', 'Yes', 'Squad 20'], ['555-01', 'No', 'Squad 20'], ['555-01', 'Yes', 'Squad 20'], ['666-01', 'Yes', 'Squad 215k'], ['666-01', 'No', 'Squad 215k'], ['777-01', 'Yes', 'Squad 2'], ['777-01', 'No', 'Squad 2'], ['777-02', 'No', 'Squad 2'], ['777-02', 'Yes', 'Squad 2'], ['888-01', 'Yes', 'Squad 6'], ['888-02', 'Yes', 'Squad 6'], ['888-03', 'No', 'Squad 6'], ['888-04', 'No', 'Squad 6'], ['888-05', 'Yes', 'Squad 6'], ['888-06', 'Yes', 'Squad 6'], ['999-01', 'Yes', 'Squad 7'], ['999-02', 'No', 'Squad 7'], ['999-03', 'No', 'Squad 7'], ['999-03', 'Yes', 'Squad 7'], ['999-03', 'Yes', 'Squad 7'], ['999-03', 'Yes', 'Squad 7'\"\n",
    "\n",
    "#Check if \"Portugal\" is in the string:\n",
    "\n",
    "x = re.findall((r'\\d\\d\\d-\\d\\d'), text)\n",
    "print(x)\n",
    "\n",
    "if (x):\n",
    "  print(\"Yes, there is at least one match!\")\n",
    "else:\n",
    "  print(\"No match\")"
   ]
  },
  {
   "cell_type": "code",
   "execution_count": 127,
   "id": "71809e5e",
   "metadata": {},
   "outputs": [
    {
     "data": {
      "text/plain": [
       "['111-02',\n",
       " '222-01',\n",
       " '222-01',\n",
       " '222-01',\n",
       " '222-01',\n",
       " '333-01',\n",
       " '333-02',\n",
       " '333-03',\n",
       " '333-04',\n",
       " '444-01',\n",
       " '444-01',\n",
       " '555-01',\n",
       " '555-01',\n",
       " '555-01',\n",
       " '555-01',\n",
       " '666-01',\n",
       " '666-01',\n",
       " '777-01',\n",
       " '777-01',\n",
       " '777-02',\n",
       " '777-02',\n",
       " '888-01',\n",
       " '888-02',\n",
       " '888-03',\n",
       " '888-04',\n",
       " '888-05',\n",
       " '888-06',\n",
       " '999-01',\n",
       " '999-02',\n",
       " '999-03',\n",
       " '999-03',\n",
       " '999-03',\n",
       " '999-03']"
      ]
     },
     "execution_count": 127,
     "metadata": {},
     "output_type": "execute_result"
    }
   ],
   "source": [
    "x\n"
   ]
  },
  {
   "cell_type": "code",
   "execution_count": null,
   "id": "a8dc811c",
   "metadata": {},
   "outputs": [],
   "source": [
    "\n",
    "\n",
    "x_requiremnt=[]\n",
    "\n",
    "for col in row[0:]:\n",
    "    all_label.append(4)\n",
    "    "
   ]
  }
 ],
 "metadata": {
  "kernelspec": {
   "display_name": "Python 3",
   "language": "python",
   "name": "python3"
  },
  "language_info": {
   "codemirror_mode": {
    "name": "ipython",
    "version": 3
   },
   "file_extension": ".py",
   "mimetype": "text/x-python",
   "name": "python",
   "nbconvert_exporter": "python",
   "pygments_lexer": "ipython3",
   "version": "3.8.8"
  }
 },
 "nbformat": 4,
 "nbformat_minor": 5
}
